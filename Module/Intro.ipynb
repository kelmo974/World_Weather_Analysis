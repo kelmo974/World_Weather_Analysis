{
 "cells": [
  {
   "cell_type": "code",
   "execution_count": null,
   "id": "ccb9a03a",
   "metadata": {},
   "outputs": [],
   "source": [
    "import random "
   ]
  },
  {
   "cell_type": "code",
   "execution_count": null,
   "id": "9efcf589",
   "metadata": {},
   "outputs": [],
   "source": [
    "random.random()"
   ]
  },
  {
   "cell_type": "code",
   "execution_count": null,
   "id": "36a5b7cb",
   "metadata": {},
   "outputs": [],
   "source": [
    "random.randint(-20, 20)"
   ]
  },
  {
   "cell_type": "code",
   "execution_count": null,
   "id": "3957f3cc",
   "metadata": {},
   "outputs": [],
   "source": [
    "random.randrange(-20,20,5)"
   ]
  },
  {
   "cell_type": "code",
   "execution_count": null,
   "id": "882b228c",
   "metadata": {},
   "outputs": [],
   "source": [
    "random.uniform(-100,100)"
   ]
  },
  {
   "cell_type": "code",
   "execution_count": null,
   "id": "6dd8ca7c",
   "metadata": {},
   "outputs": [],
   "source": [
    "import numpy as np"
   ]
  },
  {
   "cell_type": "code",
   "execution_count": null,
   "id": "8ade9d5f",
   "metadata": {},
   "outputs": [],
   "source": [
    "np.random.uniform(-90.000, 90.000, size = 52)"
   ]
  },
  {
   "cell_type": "code",
   "execution_count": null,
   "id": "6cb0d4df",
   "metadata": {},
   "outputs": [],
   "source": [
    "import timeit"
   ]
  },
  {
   "cell_type": "code",
   "execution_count": null,
   "id": "e06d62d1",
   "metadata": {},
   "outputs": [],
   "source": [
    "%timeit np.random.uniform(-90.000, 90.000, size = 1500)"
   ]
  },
  {
   "cell_type": "code",
   "execution_count": null,
   "id": "87da32f2",
   "metadata": {
    "scrolled": false
   },
   "outputs": [],
   "source": [
    "def latitudes(size):\n",
    "    latitudes = []\n",
    "    x = 0\n",
    "    for x in latitudes:\n",
    "        random_lat = random.randint(-90, 90) + random.random()\n",
    "        latitudes.append(random_lat)\n",
    "        x + 1\n",
    "    print(latitudes)\n",
    "\n",
    "%timeit latitudes(1500)"
   ]
  }
 ],
 "metadata": {
  "kernelspec": {
   "display_name": "Python 3 (ipykernel)",
   "language": "python",
   "name": "python3"
  },
  "language_info": {
   "codemirror_mode": {
    "name": "ipython",
    "version": 3
   },
   "file_extension": ".py",
   "mimetype": "text/x-python",
   "name": "python",
   "nbconvert_exporter": "python",
   "pygments_lexer": "ipython3",
   "version": "3.7.13"
  }
 },
 "nbformat": 4,
 "nbformat_minor": 5
}
